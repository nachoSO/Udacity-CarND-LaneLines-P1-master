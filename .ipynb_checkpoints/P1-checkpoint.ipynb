{
 "cells": [
  {
   "cell_type": "markdown",
   "metadata": {
    "deletable": true,
    "editable": true
   },
   "source": [
    "## Project: **Finding Lane Lines on the Road** \n",
    "***\n",
    "In this project, you will use the tools you learned about in the lesson to identify lane lines on the road.  You can develop your pipeline on a series of individual images, and later apply the result to a video stream (really just a series of images). Check out the video clip \"raw-lines-example.mp4\" (also contained in this repository) to see what the output should look like after using the helper functions below. \n",
    "\n",
    "Once you have a result that looks roughly like \"raw-lines-example.mp4\", you'll need to get creative and try to average and/or extrapolate the line segments you've detected to map out the full extent of the lane lines.  You can see an example of the result you're going for in the video \"P1_example.mp4\".  Ultimately, you would like to draw just one line for the left side of the lane, and one for the right.\n",
    "\n",
    "In addition to implementing code, there is a brief writeup to complete. The writeup should be completed in a separate file, which can be either a markdown file or a pdf document. There is a [write up template](https://github.com/udacity/CarND-LaneLines-P1/blob/master/writeup_template.md) that can be used to guide the writing process. Completing both the code in the Ipython notebook and the writeup template will cover all of the [rubric points](https://review.udacity.com/#!/rubrics/322/view) for this project.\n",
    "\n",
    "---\n",
    "Let's have a look at our first image called 'test_images/solidWhiteRight.jpg'.  Run the 2 cells below (hit Shift-Enter or the \"play\" button above) to display the image.\n",
    "\n",
    "**Note: If, at any point, you encounter frozen display windows or other confounding issues, you can always start again with a clean slate by going to the \"Kernel\" menu above and selecting \"Restart & Clear Output\".**\n",
    "\n",
    "---"
   ]
  },
  {
   "cell_type": "markdown",
   "metadata": {
    "deletable": true,
    "editable": true
   },
   "source": [
    "**The tools you have are color selection, region of interest selection, grayscaling, Gaussian smoothing, Canny Edge Detection and Hough Tranform line detection.  You  are also free to explore and try other techniques that were not presented in the lesson.  Your goal is piece together a pipeline to detect the line segments in the image, then average/extrapolate them and draw them onto the image for display (as below).  Once you have a working pipeline, try it out on the video stream below.**\n",
    "\n",
    "---\n",
    "\n",
    "<figure>\n",
    " <img src=\"line-segments-example.jpg\" width=\"380\" alt=\"Combined Image\" />\n",
    " <figcaption>\n",
    " <p></p> \n",
    " <p style=\"text-align: center;\"> The output should look something like this (above) after detecting line segments using the helper functions below </p> \n",
    " </figcaption>\n",
    "</figure>\n",
    " <p></p> \n",
    "<figure>\n",
    " <img src=\"laneLines_thirdPass.jpg\" width=\"380\" alt=\"Combined Image\" />\n",
    " <figcaption>\n",
    " <p></p> \n",
    " <p style=\"text-align: center;\"> The goal is to connect/average/extrapolate line segments to get output like this</p> \n",
    " </figcaption>\n",
    "</figure>"
   ]
  },
  {
   "cell_type": "markdown",
   "metadata": {
    "deletable": true,
    "editable": true
   },
   "source": [
    "## Import Packages"
   ]
  },
  {
   "cell_type": "code",
   "execution_count": 84,
   "metadata": {
    "collapsed": false,
    "deletable": true,
    "editable": true
   },
   "outputs": [],
   "source": [
    "#importing some useful packages\n",
    "import matplotlib.pyplot as plt\n",
    "import matplotlib.image as mpimg\n",
    "import numpy as np\n",
    "import cv2\n",
    "import os\n",
    "%matplotlib inline"
   ]
  },
  {
   "cell_type": "markdown",
   "metadata": {
    "deletable": true,
    "editable": true
   },
   "source": [
    "## Helper Functions"
   ]
  },
  {
   "cell_type": "markdown",
   "metadata": {
    "deletable": true,
    "editable": true
   },
   "source": [
    "These are some helper functions to perform the lane detection"
   ]
  },
  {
   "cell_type": "code",
   "execution_count": 2,
   "metadata": {
    "collapsed": false,
    "deletable": true,
    "editable": true
   },
   "outputs": [],
   "source": [
    "def grayscale(img):\n",
    "    \"\"\"Applies the Grayscale transform\n",
    "    This will return an image with only one color channel\n",
    "    but NOTE: to see the returned image as grayscale\n",
    "    (assuming your grayscaled image is called 'gray')\n",
    "    you should call plt.imshow(gray, cmap='gray')\"\"\"\n",
    "    return cv2.cvtColor(img, cv2.COLOR_RGB2GRAY)\n",
    "    # Or use BGR2GRAY if you read an image with cv2.imread()\n",
    "    # return cv2.cvtColor(img, cv2.COLOR_BGR2GRAY)\n",
    "    \n",
    "def canny(img, low_threshold, high_threshold):\n",
    "    \"\"\"Applies the Canny transform\"\"\"\n",
    "    return cv2.Canny(img, low_threshold, high_threshold)\n",
    "\n",
    "def gaussian_blur(img, kernel_size):\n",
    "    \"\"\"Applies a Gaussian Noise kernel\"\"\"\n",
    "    return cv2.GaussianBlur(img, (kernel_size, kernel_size), 0)\n",
    "\n",
    "def region_of_interest(img, vertices):\n",
    "    \"\"\"\n",
    "    Applies an image mask.\n",
    "    \n",
    "    Only keeps the region of the image defined by the polygon\n",
    "    formed from `vertices`. The rest of the image is set to black.\n",
    "    \"\"\"\n",
    "    #defining a blank mask to start with\n",
    "    mask = np.zeros_like(img)   \n",
    "    \n",
    "    #defining a 3 channel or 1 channel color to fill the mask with depending on the input image\n",
    "    if len(img.shape) > 2:\n",
    "        channel_count = img.shape[2]  # i.e. 3 or 4 depending on your image\n",
    "        ignore_mask_color = (255,) * channel_count\n",
    "    else:\n",
    "        ignore_mask_color = 255\n",
    "        \n",
    "    #filling pixels inside the polygon defined by \"vertices\" with the fill color    \n",
    "    cv2.fillPoly(mask, vertices, ignore_mask_color)\n",
    "    \n",
    "    #returning the image only where mask pixels are nonzero\n",
    "    masked_image = cv2.bitwise_and(img, mask)\n",
    "    return masked_image\n",
    "\n",
    "def draw_lines(img, lines, color=[255, 0, 0], thickness=10):\n",
    "    \"\"\"\n",
    "    NOTE: this is the function you might want to use as a starting point once you want to \n",
    "    average/extrapolate the line segments you detect to map out the full\n",
    "    extent of the lane (going from the result shown in raw-lines-example.mp4\n",
    "    to that shown in P1_example.mp4).  \n",
    "    \n",
    "    Think about things like separating line segments by their \n",
    "    slope ((y2-y1)/(x2-x1)) to decide which segments are part of the left\n",
    "    line vs. the right line.  Then, you can average the position of each of \n",
    "    the lines and extrapolate to the top and bottom of the lane.\n",
    "    \n",
    "    This function draws `lines` with `color` and `thickness`.    \n",
    "    Lines are drawn on the image inplace (mutates the image).\n",
    "    If you want to make the lines semi-transparent, think about combining\n",
    "    this function with the weighted_img() function below\n",
    "    \"\"\"\n",
    "    left_lines = []\n",
    "    right_lines = []\n",
    "    left_slopes = []\n",
    "    right_slopes = []\n",
    "    left_intercepts = []\n",
    "    right_intercepts = []\n",
    "    for line in lines:\n",
    "        for x1,y1,x2,y2 in line:\n",
    "            slope = (y1-y2)/(x1-x2)\n",
    "            # 1) Separate line segments by slope\n",
    "            if slope > 0:\n",
    "                right_lines.append(line)\n",
    "                right_slopes.append(slope)\n",
    "                right_intercepts.append(y1-slope*x1)\n",
    "            else:\n",
    "                left_lines.append(line)\n",
    "                left_slopes.append(slope)\n",
    "                left_intercepts.append(y1-slope*x1)\n",
    "    # 2) Average line position and extrapolation.\n",
    "    m_left=np.mean(left_slopes)\n",
    "    b_left=np.mean(left_intercepts)\n",
    "    y1_left=img.shape[0]\n",
    "    x1_left=np.int32((y1_left-b_left)/m_left)\n",
    "    x2_left=np.int32(img.shape[1]/2)-15\n",
    "    y2_left=np.int32(m_left*x2_left+b_left)\n",
    "    cv2.line(img, (x1_left, y1_left), (x2_left, y2_left), color, thickness)   \n",
    "   \n",
    "    m_right=np.mean(right_slopes)\n",
    "    b_right=np.mean(right_intercepts)\n",
    "    y1_right=img.shape[0]\n",
    "    x1_right=np.int32((y1_right-b_right)/m_right)\n",
    "    x2_right=np.int32(img.shape[1]/2)+15\n",
    "    y2_right=np.int32(m_right*x2_right+b_right)\n",
    "    cv2.line(img, (x1_right, y1_right), (x2_right, y2_right), color, thickness)   \n",
    "\n",
    "def weighted_img(img, initial_img, α=0.8, β=1., λ=0.):\n",
    "    \"\"\"\n",
    "    `img` is the output of the hough_lines(), An image with lines drawn on it.\n",
    "    Should be a blank image (all black) with lines drawn on it.\n",
    "    \n",
    "    `initial_img` should be the image before any processing.\n",
    "    \n",
    "    The result image is computed as follows:\n",
    "    \n",
    "    initial_img * α + img * β + λ\n",
    "    NOTE: initial_img and img must be the same shape!\n",
    "    \"\"\"\n",
    "    return cv2.addWeighted(initial_img, α, img, β, λ)\n",
    "\n",
    "def create_directory(directory):\n",
    "    if not os.path.exists(directory):\n",
    "        os.makedirs(directory)\n",
    "\n",
    "def hough_lines(img, rho, theta, threshold, min_line_len, max_line_gap):\n",
    "    \"\"\"\n",
    "    `img` should be the output of a Canny transform.\n",
    "        \n",
    "    Returns an image with hough lines drawn.\n",
    "    \"\"\"\n",
    "    lines = cv2.HoughLinesP(img, rho, theta, threshold, np.array([]), minLineLength=min_line_len, maxLineGap=max_line_gap)\n",
    "    line_img = np.zeros((img.shape[0], img.shape[1], 3), dtype=np.uint8)\n",
    "    draw_lines(line_img, lines)\n",
    "    return line_img\n",
    " \n",
    "# TODO: Build your pipeline that will draw lane lines on the test_images\n",
    "# then save them to the test_images directory.         \n",
    "def process_image(image):\n",
    "\n",
    "    gray = grayscale(image)\n",
    "\n",
    "    # Apply Gaussian smoothing\n",
    "    blur_gray = gaussian_blur(image, kernel_size = 15)\n",
    "\n",
    "    # Apply Canny in order to perform the edge detection\n",
    "    edges = canny(blur_gray, low_threshold = 50, high_threshold = 100)\n",
    "\n",
    "    # This time we are defining a four sided polygon to mask\n",
    "    imshape = image.shape\n",
    "    vertices = np.array([[(0,imshape[0]),(460, 310), (460, 310), (imshape[1],imshape[0])]], dtype=np.int32) \n",
    "    masked_edges=region_of_interest(edges, vertices)\n",
    "    \n",
    "    # Define the Hough transform parameters (based on guess and looking which was the output :p)\n",
    "    # Make a blank the same size as our image to draw on\n",
    "    rho = 2 # distance resolution in pixels of the Hough grid\n",
    "    theta = np.pi/180 # angular resolution in radians of the Hough grid\n",
    "    threshold = 45     # minimum number of votes (intersections in Hough grid cell)\n",
    "    min_line_length = 25 #minimum number of pixels making up a line\n",
    "    max_line_gap = 75    # maximum gap in pixels between connectable line segments\n",
    "    line_image = np.copy(image) # creating a blank to draw lines on\n",
    "    # Run Hough on edge detected image\n",
    "    # Output \"lines\" is an array containing endpoints of detected line segments\n",
    "    lines = cv2.HoughLinesP(masked_edges, rho, theta, threshold, np.array([]),\n",
    "                                min_line_length, max_line_gap)\n",
    "\n",
    "    # Iterate over the output \"lines\" and draw lines on a blank image\n",
    "    for line in lines:\n",
    "        for x1,y1,x2,y2 in line:\n",
    "            cv2.line(line_image,(x1,y1),(x2,y2),(255,0,0),10)\n",
    "\n",
    "    # Create a \"color\" binary image to combine with line image\n",
    "    color_edges = np.dstack((edges, edges, edges)) \n",
    "\n",
    "    # Draw the lines on the edge image\n",
    "    lines_edges = cv2.addWeighted(color_edges, 0.8, line_image, 1, 0) \n",
    "\n",
    "    return line_image\n",
    "    \n",
    "def process_image_pipeline(image):\n",
    "\n",
    "    gray = grayscale(image)\n",
    "\n",
    "    # Apply Gaussian smoothing\n",
    "    blur_gray = gaussian_blur(image, kernel_size = 15)\n",
    "\n",
    "    # Apply Canny in order to perform the edge detection\n",
    "    edges = canny(blur_gray, low_threshold = 50, high_threshold = 100)\n",
    "\n",
    "    # This time we are defining a four sided polygon to mask\n",
    "    imshape = image.shape\n",
    "    vertices = np.array([[(0,imshape[0]),(460, 310), (460, 310), (imshape[1],imshape[0])]], dtype=np.int32) \n",
    "    masked_edges=region_of_interest(edges, vertices)\n",
    "    \n",
    "    # Define the Hough transform parameters (based on guess and looking which was the output :p)\n",
    "    # Make a blank the same size as our image to draw on\n",
    "    rho = 2 # distance resolution in pixels of the Hough grid\n",
    "    theta = np.pi/180 # angular resolution in radians of the Hough grid\n",
    "    threshold = 45     # minimum number of votes (intersections in Hough grid cell)\n",
    "    min_line_length = 25 #minimum number of pixels making up a line\n",
    "    max_line_gap = 75    # maximum gap in pixels between connectable line segments\n",
    "    line_image = np.copy(image) # creating a blank to draw lines on\n",
    "    \n",
    "    # Run Hough on edge detected image\n",
    "    # Output \"lines\" is an array containing endpoints of detected line segments\n",
    "    # Define the Hough transform parameters\n",
    "    lines =  hough_lines(masked_edges, rho, theta, threshold, min_line_length, max_line_gap)\n",
    "   \n",
    "    # Create a \"color\" binary image to combine with line image\n",
    "    color_edges = np.dstack((edges, edges, edges)) \n",
    "\n",
    "    # Draw the lines on the edge image\n",
    "    lines_edges = cv2.addWeighted(lines, 0.8, line_image, 1, 0) \n",
    "    plt.imshow(lines_edges)\n",
    "\n",
    "    return lines_edges\n",
    " "
   ]
  },
  {
   "cell_type": "markdown",
   "metadata": {
    "deletable": true,
    "editable": true
   },
   "source": [
    "## Main function\n",
    "\n"
   ]
  },
  {
   "cell_type": "code",
   "execution_count": 3,
   "metadata": {
    "collapsed": false,
    "deletable": true,
    "editable": true
   },
   "outputs": [],
   "source": [
    "import matplotlib.pyplot as plt\n",
    "import matplotlib.image as mpimg\n",
    "import numpy as np\n",
    "import cv2\n",
    "import os\n",
    "from moviepy.editor import VideoFileClip\n",
    "from IPython.display import HTML\n",
    "from collections import deque\n",
    "\n",
    "from helper import *\n",
    "testOnline=True # true=save the files in your computer\n",
    "\n",
    "def process_videos():\n",
    "    #Function that performs the video lane Detection \n",
    "    #video processing (ref: http://docs.opencv.org/3.0-beta/doc/py_tutorials/py_gui/py_video_display/py_video_display.html)\n",
    "    output_dir=\"video_output/\"\n",
    "    input_dir=\"test_video\"\n",
    "    create_directory(\"video_output\")\n",
    "    fourcc = cv2.VideoWriter_fourcc(*'XVID')\n",
    "\n",
    "    for video_name in os.listdir(input_dir):\n",
    "        cap = cv2.VideoCapture(input_dir+\"/\"+video_name)\n",
    "        out = cv2.VideoWriter(output_dir+video_name,fourcc, 20.0, (960,540)) \n",
    "        while(cap.isOpened()):\n",
    "            ret, frame = cap.read()\n",
    "            if ret==True:\n",
    "                image_line = process_image_pipeline(frame)\n",
    "                out.write(image_line)\n",
    "            else:\n",
    "                break\n",
    "        cap.release()\n",
    "        out.release()\n",
    "        cv2.destroyAllWindows()\n",
    "        \n",
    "def process_images():\n",
    "    #Function that performs the image lane Detection \n",
    "    output_dir=\"image_output/\"\n",
    "    input_dir=\"test_images\"\n",
    "    create_directory(\"image_output\")\n",
    "\n",
    "    for image_name in os.listdir(input_dir):\n",
    "        image = mpimg.imread(input_dir+\"/\"+image_name)\n",
    "        image_line = process_image(image)\n",
    "        if testOnline==True:\n",
    "            cv2.imwrite(output_dir+image_name, cv2.cvtColor(image_line, cv2.COLOR_RGB2BGR))\n",
    "        \n",
    "def process_images_pipeline():\n",
    "    #Function that performs the image pipeline lane Detection\n",
    "    output_dir=\"image_output_pipeline/\"\n",
    "    input_dir=\"test_images\"\n",
    "    create_directory(\"image_output_pipeline\")\n",
    "\n",
    "    for image_name in os.listdir(input_dir):\n",
    "        image = mpimg.imread(input_dir+\"/\"+image_name)\n",
    "        image_line = process_image_pipeline(image) \n",
    "        if testOnline==True:\n",
    "            cv2.imwrite(output_dir+image_name, cv2.cvtColor(image_line, cv2.COLOR_RGB2BGR))\n",
    "            plt.imshow(image_line)\n",
    "\n",
    "#Image + Video lane detection\n",
    "#process_images() # lane detection\n",
    "process_images_pipeline() # image lane detection pipeline\n",
    "#process_videos() # video lane detection pipeline\n"
   ]
  },
  {
   "cell_type": "markdown",
   "metadata": {
    "deletable": true,
    "editable": true
   },
   "source": [
    "## Test on Videos (jupyter)"
   ]
  },
  {
   "cell_type": "code",
   "execution_count": 4,
   "metadata": {
    "collapsed": true,
    "deletable": true,
    "editable": true
   },
   "outputs": [],
   "source": [
    "# Import everything needed to edit/save/watch video clips\n",
    "from moviepy.editor import VideoFileClip\n",
    "from IPython.display import HTML"
   ]
  },
  {
   "cell_type": "markdown",
   "metadata": {
    "deletable": true,
    "editable": true
   },
   "source": [
    "Let's try the one with the solid white lane on the right first ..."
   ]
  },
  {
   "cell_type": "code",
   "execution_count": 5,
   "metadata": {
    "collapsed": false,
    "deletable": true,
    "editable": true
   },
   "outputs": [
    {
     "name": "stdout",
     "output_type": "stream",
     "text": [
      "[MoviePy] >>>> Building video white.mp4\n",
      "[MoviePy] Writing video white.mp4\n"
     ]
    },
    {
     "name": "stderr",
     "output_type": "stream",
     "text": [
      "100%|███████████████████████████████████████▊| 221/222 [00:08<00:00, 26.88it/s]\n"
     ]
    },
    {
     "name": "stdout",
     "output_type": "stream",
     "text": [
      "[MoviePy] Done.\n",
      "[MoviePy] >>>> Video ready: white.mp4 \n",
      "\n",
      "Wall time: 8.98 s\n"
     ]
    }
   ],
   "source": [
    "white_output = 'white.mp4'\n",
    "clip1 = VideoFileClip(\"solidWhiteRight.mp4\")\n",
    "white_clip = clip1.fl_image(process_image) #NOTE: this function expects color images!!\n",
    "%time white_clip.write_videofile(white_output, audio=False)"
   ]
  },
  {
   "cell_type": "markdown",
   "metadata": {
    "deletable": true,
    "editable": true
   },
   "source": [
    "Play the video inline, or if you prefer find the video in your filesystem (should be in the same directory) and play it in your video player of choice."
   ]
  },
  {
   "cell_type": "code",
   "execution_count": 6,
   "metadata": {
    "collapsed": false,
    "deletable": true,
    "editable": true
   },
   "outputs": [
    {
     "data": {
      "text/html": [
       "\n",
       "<video width=\"960\" height=\"540\" controls>\n",
       "  <source src=\"white.mp4\">\n",
       "</video>\n"
      ],
      "text/plain": [
       "<IPython.core.display.HTML object>"
      ]
     },
     "execution_count": 6,
     "metadata": {},
     "output_type": "execute_result"
    }
   ],
   "source": [
    "HTML(\"\"\"\n",
    "<video width=\"960\" height=\"540\" controls>\n",
    "  <source src=\"{0}\">\n",
    "</video>\n",
    "\"\"\".format(white_output))"
   ]
  },
  {
   "cell_type": "markdown",
   "metadata": {
    "deletable": true,
    "editable": true
   },
   "source": [
    "## Writeup and Submission\n",
    "\n",
    "If you're satisfied with your video outputs, it's time to make the report writeup in a pdf or markdown file. Once you have this Ipython notebook ready along with the writeup, it's time to submit for review! Here is a [link](https://github.com/udacity/CarND-LaneLines-P1/blob/master/writeup_template.md) to the writeup template file.\n"
   ]
  },
  {
   "cell_type": "markdown",
   "metadata": {
    "collapsed": true,
    "deletable": true,
    "editable": true
   },
   "source": [
    "## Optional Challenge (TODO)\n",
    "\n",
    "Try your lane finding pipeline on the video below.  Does it still work?  Can you figure out a way to make it more robust?  If you're up for the challenge, modify your pipeline so it works with this video and submit it along with the rest of your project!"
   ]
  },
  {
   "cell_type": "code",
   "execution_count": null,
   "metadata": {
    "collapsed": false,
    "deletable": true,
    "editable": true
   },
   "outputs": [
    {
     "name": "stdout",
     "output_type": "stream",
     "text": [
      "[MoviePy] >>>> Building video extra.mp4\n",
      "[MoviePy] Writing video extra.mp4\n"
     ]
    },
    {
     "name": "stderr",
     "output_type": "stream",
     "text": [
      " 22%|█████████▏                               | 56/251 [00:03<00:13, 14.09it/s]"
     ]
    }
   ],
   "source": [
    "#TODO\n",
    "challenge_output = 'extra.mp4'\n",
    "clip2 = VideoFileClip('challenge.mp4')\n",
    "challenge_clip = clip2.fl_image(process_image_pipeline)\n",
    "%time challenge_clip.write_videofile(challenge_output, audio=False)"
   ]
  },
  {
   "cell_type": "code",
   "execution_count": null,
   "metadata": {
    "collapsed": false,
    "deletable": true,
    "editable": true
   },
   "outputs": [],
   "source": [
    "HTML(\"\"\"\n",
    "<video width=\"960\" height=\"540\" controls>\n",
    "  <source src=\"{0}\">\n",
    "</video>\n",
    "\"\"\".format(challenge_output))"
   ]
  }
 ],
 "metadata": {
  "anaconda-cloud": {},
  "kernelspec": {
   "display_name": "Python 3",
   "language": "python",
   "name": "python3"
  },
  "language_info": {
   "codemirror_mode": {
    "name": "ipython",
    "version": 3
   },
   "file_extension": ".py",
   "mimetype": "text/x-python",
   "name": "python",
   "nbconvert_exporter": "python",
   "pygments_lexer": "ipython3",
   "version": "3.5.2"
  },
  "widgets": {
   "state": {},
   "version": "1.1.2"
  }
 },
 "nbformat": 4,
 "nbformat_minor": 0
}
